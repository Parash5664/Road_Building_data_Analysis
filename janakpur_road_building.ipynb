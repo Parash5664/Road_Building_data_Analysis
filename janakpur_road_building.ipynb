{
 "cells": [
  {
   "cell_type": "code",
   "execution_count": 1,
   "metadata": {},
   "outputs": [],
   "source": [
    "import pandas as pd\n",
    "import matplotlib.pyplot as plt\n",
    "import seaborn as sns"
   ]
  },
  {
   "cell_type": "code",
   "execution_count": 2,
   "metadata": {},
   "outputs": [],
   "source": [
    "# Read CSV files\n",
    "roads_df = pd.read_csv('roads_dummy_data.csv')\n",
    "buildings_df = pd.read_csv('buildings_dummy_data.csv')"
   ]
  },
  {
   "cell_type": "code",
   "execution_count": 3,
   "metadata": {},
   "outputs": [
    {
     "name": "stdout",
     "output_type": "stream",
     "text": [
      "(900, 6)\n"
     ]
    },
    {
     "data": {
      "text/html": [
       "<div>\n",
       "<style scoped>\n",
       "    .dataframe tbody tr th:only-of-type {\n",
       "        vertical-align: middle;\n",
       "    }\n",
       "\n",
       "    .dataframe tbody tr th {\n",
       "        vertical-align: top;\n",
       "    }\n",
       "\n",
       "    .dataframe thead th {\n",
       "        text-align: right;\n",
       "    }\n",
       "</style>\n",
       "<table border=\"1\" class=\"dataframe\">\n",
       "  <thead>\n",
       "    <tr style=\"text-align: right;\">\n",
       "      <th></th>\n",
       "      <th>Road ID</th>\n",
       "      <th>Road Name</th>\n",
       "      <th>Length (km)</th>\n",
       "      <th>Type</th>\n",
       "      <th>Condition</th>\n",
       "      <th>Year Built</th>\n",
       "    </tr>\n",
       "  </thead>\n",
       "  <tbody>\n",
       "    <tr>\n",
       "      <th>0</th>\n",
       "      <td>R1</td>\n",
       "      <td>Road_1</td>\n",
       "      <td>4.1</td>\n",
       "      <td>Dirt</td>\n",
       "      <td>Good</td>\n",
       "      <td>1999.0</td>\n",
       "    </tr>\n",
       "    <tr>\n",
       "      <th>1</th>\n",
       "      <td>R2</td>\n",
       "      <td>Road_2</td>\n",
       "      <td>9.5</td>\n",
       "      <td>Asphalt</td>\n",
       "      <td>Good</td>\n",
       "      <td>1985.0</td>\n",
       "    </tr>\n",
       "    <tr>\n",
       "      <th>2</th>\n",
       "      <td>R3</td>\n",
       "      <td>Road_3</td>\n",
       "      <td>7.5</td>\n",
       "      <td>Dirt</td>\n",
       "      <td>Good</td>\n",
       "      <td>1991.0</td>\n",
       "    </tr>\n",
       "    <tr>\n",
       "      <th>3</th>\n",
       "      <td>R4</td>\n",
       "      <td>NaN</td>\n",
       "      <td>6.2</td>\n",
       "      <td>Asphalt</td>\n",
       "      <td>Good</td>\n",
       "      <td>1981.0</td>\n",
       "    </tr>\n",
       "    <tr>\n",
       "      <th>4</th>\n",
       "      <td>R5</td>\n",
       "      <td>NaN</td>\n",
       "      <td>NaN</td>\n",
       "      <td>Dirt</td>\n",
       "      <td>Good</td>\n",
       "      <td>1986.0</td>\n",
       "    </tr>\n",
       "  </tbody>\n",
       "</table>\n",
       "</div>"
      ],
      "text/plain": [
       "  Road ID Road Name  Length (km)     Type Condition  Year Built\n",
       "0      R1    Road_1          4.1     Dirt      Good      1999.0\n",
       "1      R2    Road_2          9.5  Asphalt      Good      1985.0\n",
       "2      R3    Road_3          7.5     Dirt      Good      1991.0\n",
       "3      R4       NaN          6.2  Asphalt      Good      1981.0\n",
       "4      R5       NaN          NaN     Dirt      Good      1986.0"
      ]
     },
     "execution_count": 3,
     "metadata": {},
     "output_type": "execute_result"
    }
   ],
   "source": [
    "print(roads_df.shape)\n",
    "roads_df.head()\n"
   ]
  },
  {
   "cell_type": "code",
   "execution_count": 4,
   "metadata": {},
   "outputs": [
    {
     "name": "stdout",
     "output_type": "stream",
     "text": [
      "(900, 6)\n"
     ]
    },
    {
     "data": {
      "text/html": [
       "<div>\n",
       "<style scoped>\n",
       "    .dataframe tbody tr th:only-of-type {\n",
       "        vertical-align: middle;\n",
       "    }\n",
       "\n",
       "    .dataframe tbody tr th {\n",
       "        vertical-align: top;\n",
       "    }\n",
       "\n",
       "    .dataframe thead th {\n",
       "        text-align: right;\n",
       "    }\n",
       "</style>\n",
       "<table border=\"1\" class=\"dataframe\">\n",
       "  <thead>\n",
       "    <tr style=\"text-align: right;\">\n",
       "      <th></th>\n",
       "      <th>Building ID</th>\n",
       "      <th>Building Name</th>\n",
       "      <th>Building Type</th>\n",
       "      <th>Floors</th>\n",
       "      <th>Year Built</th>\n",
       "      <th>Condition</th>\n",
       "    </tr>\n",
       "  </thead>\n",
       "  <tbody>\n",
       "    <tr>\n",
       "      <th>0</th>\n",
       "      <td>B1</td>\n",
       "      <td>Building_1</td>\n",
       "      <td>Residential</td>\n",
       "      <td>4.0</td>\n",
       "      <td>1998.0</td>\n",
       "      <td>Good</td>\n",
       "    </tr>\n",
       "    <tr>\n",
       "      <th>1</th>\n",
       "      <td>B2</td>\n",
       "      <td>Building_2</td>\n",
       "      <td>Government</td>\n",
       "      <td>7.0</td>\n",
       "      <td>2018.0</td>\n",
       "      <td>Fair</td>\n",
       "    </tr>\n",
       "    <tr>\n",
       "      <th>2</th>\n",
       "      <td>B3</td>\n",
       "      <td>Building_3</td>\n",
       "      <td>Residential</td>\n",
       "      <td>NaN</td>\n",
       "      <td>1991.0</td>\n",
       "      <td>Good</td>\n",
       "    </tr>\n",
       "    <tr>\n",
       "      <th>3</th>\n",
       "      <td>B4</td>\n",
       "      <td>Building_4</td>\n",
       "      <td>Residential</td>\n",
       "      <td>7.0</td>\n",
       "      <td>1994.0</td>\n",
       "      <td>Good</td>\n",
       "    </tr>\n",
       "    <tr>\n",
       "      <th>4</th>\n",
       "      <td>B5</td>\n",
       "      <td>Building_5</td>\n",
       "      <td>Government</td>\n",
       "      <td>5.0</td>\n",
       "      <td>2010.0</td>\n",
       "      <td>NaN</td>\n",
       "    </tr>\n",
       "  </tbody>\n",
       "</table>\n",
       "</div>"
      ],
      "text/plain": [
       "  Building ID Building Name Building Type  Floors  Year Built Condition\n",
       "0          B1    Building_1   Residential     4.0      1998.0      Good\n",
       "1          B2    Building_2    Government     7.0      2018.0      Fair\n",
       "2          B3    Building_3   Residential     NaN      1991.0      Good\n",
       "3          B4    Building_4   Residential     7.0      1994.0      Good\n",
       "4          B5    Building_5    Government     5.0      2010.0       NaN"
      ]
     },
     "execution_count": 4,
     "metadata": {},
     "output_type": "execute_result"
    }
   ],
   "source": [
    "print(buildings_df.shape)\n",
    "buildings_df.head()"
   ]
  },
  {
   "cell_type": "code",
   "execution_count": 5,
   "metadata": {},
   "outputs": [
    {
     "name": "stdout",
     "output_type": "stream",
     "text": [
      "\n",
      "Missing Values in Roads Data:\n",
      "Road ID        90\n",
      "Road Name      90\n",
      "Length (km)    90\n",
      "Type           90\n",
      "Condition      90\n",
      "Year Built     90\n",
      "dtype: int64\n"
     ]
    }
   ],
   "source": [
    "# Check for missing values\n",
    "print(\"\\nMissing Values in Roads Data:\")\n",
    "print(roads_df.isnull().sum())\n"
   ]
  },
  {
   "cell_type": "code",
   "execution_count": 6,
   "metadata": {},
   "outputs": [
    {
     "name": "stdout",
     "output_type": "stream",
     "text": [
      "\n",
      "Missing Values in Buildings Data:\n",
      "Building ID      90\n",
      "Building Name    90\n",
      "Building Type    90\n",
      "Floors           90\n",
      "Year Built       90\n",
      "Condition        90\n",
      "dtype: int64\n"
     ]
    }
   ],
   "source": [
    "print(\"\\nMissing Values in Buildings Data:\")\n",
    "print(buildings_df.isnull().sum())"
   ]
  },
  {
   "cell_type": "code",
   "execution_count": 7,
   "metadata": {},
   "outputs": [],
   "source": [
    "# Fill missing numerical values with mean\n",
    "for col in ['Length (km)', 'Year Built']:\n",
    "    roads_df[col].fillna(roads_df[col].mean(), inplace=True)"
   ]
  },
  {
   "cell_type": "code",
   "execution_count": 8,
   "metadata": {},
   "outputs": [],
   "source": [
    "\n",
    "for col in ['Floors', 'Year Built']:\n",
    "    buildings_df[col].fillna(buildings_df[col].mean(), inplace=True)"
   ]
  },
  {
   "cell_type": "code",
   "execution_count": 9,
   "metadata": {},
   "outputs": [],
   "source": [
    "# Fill missing categorical values with mode\n",
    "for col in ['Road Name', 'Type', 'Condition']:\n",
    "    roads_df[col].fillna(roads_df[col].mode()[0], inplace=True)"
   ]
  },
  {
   "cell_type": "code",
   "execution_count": 10,
   "metadata": {},
   "outputs": [],
   "source": [
    "for col in ['Building Name', 'Building Type', 'Condition']:\n",
    "    buildings_df[col].fillna(buildings_df[col].mode()[0], inplace=True)"
   ]
  },
  {
   "cell_type": "code",
   "execution_count": 11,
   "metadata": {},
   "outputs": [
    {
     "name": "stdout",
     "output_type": "stream",
     "text": [
      "\n",
      "Missing Values in Roads Data after filling:\n",
      "Road ID        90\n",
      "Road Name       0\n",
      "Length (km)     0\n",
      "Type            0\n",
      "Condition       0\n",
      "Year Built      0\n",
      "dtype: int64\n"
     ]
    }
   ],
   "source": [
    "# Check for missing values after filling\n",
    "print(\"\\nMissing Values in Roads Data after filling:\")\n",
    "print(roads_df.isnull().sum())"
   ]
  },
  {
   "cell_type": "code",
   "execution_count": 12,
   "metadata": {},
   "outputs": [
    {
     "name": "stdout",
     "output_type": "stream",
     "text": [
      "\n",
      "Missing Values in Buildings Data after filling:\n",
      "Building ID      90\n",
      "Building Name     0\n",
      "Building Type     0\n",
      "Floors            0\n",
      "Year Built        0\n",
      "Condition         0\n",
      "dtype: int64\n"
     ]
    }
   ],
   "source": [
    "print(\"\\nMissing Values in Buildings Data after filling:\")\n",
    "print(buildings_df.isnull().sum())"
   ]
  },
  {
   "cell_type": "code",
   "execution_count": 13,
   "metadata": {},
   "outputs": [
    {
     "data": {
      "image/png": "[encoded data removed]",
      "text/plain": [
       "<Figure size 720x432 with 1 Axes>"
      ]
     },
     "metadata": {
      "needs_background": "light"
     },
     "output_type": "display_data"
    }
   ],
   "source": [
    "# Visualization\n",
    "# Plotting the conditions of roads\n",
    "plt.figure(figsize=(10, 6))\n",
    "sns.countplot(data=roads_df, x='Condition', palette='viridis')\n",
    "plt.title('Road Conditions in Janakpur Municipality')\n",
    "plt.xlabel('Condition')\n",
    "plt.ylabel('Count')\n",
    "plt.show()"
   ]
  },
  {
   "cell_type": "code",
   "execution_count": 14,
   "metadata": {},
   "outputs": [
    {
     "data": {
      "image/png": "[encoded data removed]",
      "text/plain": [
       "<Figure size 720x432 with 1 Axes>"
      ]
     },
     "metadata": {
      "needs_background": "light"
     },
     "output_type": "display_data"
    }
   ],
   "source": [
    "# Plotting the conditions of buildings\n",
    "plt.figure(figsize=(10, 6))\n",
    "sns.countplot(data=buildings_df, x='Condition', palette='viridis')\n",
    "plt.title('Building Conditions in Janakpur Municipality')\n",
    "plt.xlabel('Condition')\n",
    "plt.ylabel('Count')\n",
    "plt.show()"
   ]
  },
  {
   "cell_type": "code",
   "execution_count": 15,
   "metadata": {},
   "outputs": [
    {
     "name": "stdout",
     "output_type": "stream",
     "text": [
      "\n",
      "Average Length of Roads by Type:\n",
      "      Type  Length (km)\n",
      "0  Asphalt     5.201944\n",
      "1     Dirt     5.205973\n",
      "2   Gravel     5.026431\n"
     ]
    }
   ],
   "source": [
    "# Analysis\n",
    "# Average length of roads by type\n",
    "avg_length_by_type = roads_df.groupby('Type')['Length (km)'].mean().reset_index()\n",
    "print(\"\\nAverage Length of Roads by Type:\")\n",
    "print(avg_length_by_type)"
   ]
  },
  {
   "cell_type": "code",
   "execution_count": 16,
   "metadata": {},
   "outputs": [
    {
     "name": "stdout",
     "output_type": "stream",
     "text": [
      "\n",
      "Number of Buildings by Type:\n",
      "  Building Type  Count\n",
      "0   Residential    370\n",
      "1    Government    275\n",
      "2    Commercial    255\n"
     ]
    }
   ],
   "source": [
    "# Number of buildings by type\n",
    "buildings_by_type = buildings_df['Building Type'].value_counts().reset_index()\n",
    "buildings_by_type.columns = ['Building Type', 'Count']\n",
    "print(\"\\nNumber of Buildings by Type:\")\n",
    "print(buildings_by_type)"
   ]
  },
  {
   "cell_type": "code",
   "execution_count": 17,
   "metadata": {},
   "outputs": [
    {
     "data": {
      "image/png": "[encoded data removed]",
      "text/plain": [
       "<Figure size 864x576 with 1 Axes>"
      ]
     },
     "metadata": {
      "needs_background": "light"
     },
     "output_type": "display_data"
    }
   ],
   "source": [
    "# Year-wise road construction\n",
    "plt.figure(figsize=(12, 8))\n",
    "sns.distplot(roads_df['Year Built'].dropna(), kde=True, bins=20, color='purple') \n",
    "plt.title('Year-wise Road Construction in Janakpur Municipality')\n",
    "plt.xlabel('Year Built')\n",
    "plt.ylabel('Number of Roads')\n",
    "plt.show()"
   ]
  },
  {
   "cell_type": "code",
   "execution_count": null,
   "metadata": {},
   "outputs": [],
   "source": []
  },
  {
   "cell_type": "code",
   "execution_count": 18,
   "metadata": {},
   "outputs": [],
   "source": [
    "# print(\"Seaborn version:\", sns.__version__)"
   ]
  },
  {
   "cell_type": "code",
   "execution_count": 19,
   "metadata": {},
   "outputs": [
    {
     "data": {
      "image/png": "[encoded data removed]",
      "text/plain": [
       "<Figure size 864x576 with 1 Axes>"
      ]
     },
     "metadata": {
      "needs_background": "light"
     },
     "output_type": "display_data"
    }
   ],
   "source": [
    "# Year-wise building construction\n",
    "plt.figure(figsize=(12, 8))\n",
    "sns.distplot(buildings_df['Year Built'].dropna(), kde=True, bins=20, color='purple')  # Using 'purple' color\n",
    "plt.title('Year-wise Building Construction in Janakpur Municipality')\n",
    "plt.xlabel('Year Built')\n",
    "plt.ylabel('Number of Buildings')\n",
    "plt.show()"
   ]
  }
 ],
 "metadata": {
  "kernelspec": {
   "display_name": "Python 3",
   "language": "python",
   "name": "python3"
  },
  "language_info": {
   "codemirror_mode": {
    "name": "ipython",
    "version": 3
   },
   "file_extension": ".py",
   "mimetype": "text/x-python",
   "name": "python",
   "nbconvert_exporter": "python",
   "pygments_lexer": "ipython3",
   "version": "3.8.3"
  }
 },
 "nbformat": 4,
 "nbformat_minor": 4
}
